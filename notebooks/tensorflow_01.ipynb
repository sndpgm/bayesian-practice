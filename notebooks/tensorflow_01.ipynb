{
 "cells": [
  {
   "cell_type": "markdown",
   "id": "36435034-b6b8-42ab-947f-6078a45a4ee3",
   "metadata": {},
   "source": [
    "# 01. TFP Probablisic Layer: Regression\n",
    "\n",
    "- **Motivation**\n",
    "  - Tensorflow Probability API の確率分布レイヤーを活用しニューラルネットワーク回帰モデルを構築\n",
    "  - 確率分布レイヤーを出力層に配置し, 損失関数に負の対数尤度を設定することで実現"
   ]
  },
  {
   "cell_type": "code",
   "execution_count": null,
   "id": "99b265df-d824-4bcf-8dd2-93787fa328ed",
   "metadata": {},
   "outputs": [],
   "source": [
    "from pprint import pprint\n",
    "\n",
    "import matplotlib.pyplot as plt\n",
    "import numpy as np\n",
    "import seaborn as sns\n",
    "import tensorflow as tf\n",
    "import tensorflow_probability as tfp\n",
    "\n",
    "sns.reset_defaults()\n",
    "sns.set_context(context=\"talk\", font_scale=0.7)\n",
    "\n",
    "%matplotlib inline\n",
    "\n",
    "tfd = tfp.distributions"
   ]
  },
  {
   "cell_type": "code",
   "execution_count": 2,
   "id": "d71476ad-5537-443b-8f34-ac03ad3334f0",
   "metadata": {},
   "outputs": [],
   "source": [
    "negloglik = lambda y, rv_y: -rv_y.log_prob(y)"
   ]
  },
  {
   "cell_type": "code",
   "execution_count": 3,
   "id": "f418f7ac-4e7a-4309-9d63-1b7bccfae4f5",
   "metadata": {},
   "outputs": [],
   "source": [
    "w0 = 0.125\n",
    "b0 = 5.0\n",
    "x_range = [-20, 60]\n",
    "\n",
    "\n",
    "def load_dataset(n=150, n_tst=150):\n",
    "    np.random.seed(43)\n",
    "\n",
    "    def s(x):\n",
    "        g = (x - x_range[0]) / (x_range[1] - x_range[0])\n",
    "        return 3 * (0.25 + g**2)\n",
    "\n",
    "    x = (x_range[1] - x_range[0]) * np.random.rand(n) + x_range[0]\n",
    "    eps = np.random.randn(n) * s(x)\n",
    "    y = (w0 * x * (1.0 + np.sin(x)) + b0) + eps\n",
    "    x = x[..., np.newaxis]\n",
    "    x_tst = np.linspace(*x_range, num=n_tst).astype(np.float32)\n",
    "    x_tst = x_tst[..., np.newaxis]\n",
    "    return y, x, x_tst\n",
    "\n",
    "\n",
    "y, x, x_tst = load_dataset()"
   ]
  },
  {
   "cell_type": "markdown",
   "id": "f8e13c06-0e09-4708-82a8-d4cc1670d1ba",
   "metadata": {},
   "source": [
    "## Case 1. 線型結合レイヤー + 正規分布レイヤー (標準偏差固定)\n",
    "\n",
    "<div align=\"center\"><img src=\"static/01_no_uncertainity.svg\" width=\"400\"/></div>"
   ]
  },
  {
   "cell_type": "code",
   "execution_count": 30,
   "id": "4f8709fc-50ab-478a-add0-0817064aa795",
   "metadata": {},
   "outputs": [
    {
     "name": "stderr",
     "output_type": "stream",
     "text": [
      "2023-04-19 22:31:52.503736: I tensorflow/core/grappler/optimizers/custom_graph_optimizer_registry.cc:114] Plugin optimizer for device_type GPU is enabled.\n"
     ]
    },
    {
     "name": "stdout",
     "output_type": "stream",
     "text": [
      "0.13489208\n",
      "5.134334\n"
     ]
    }
   ],
   "source": [
    "# Build model\n",
    "model = tf.keras.Sequential(\n",
    "    [\n",
    "        tf.keras.layers.Dense(1),\n",
    "        tfp.layers.DistributionLambda(lambda t: tfd.Normal(loc=t, scale=1.0)),\n",
    "    ]\n",
    ")\n",
    "\n",
    "# Do inference\n",
    "model.compile(optimizer=tf.optimizers.Adam(learning_rate=0.01), loss=negloglik)\n",
    "model.fit(x, y, epochs=1000, verbose=False)\n",
    "\n",
    "# Profit\n",
    "[print(np.squeeze(w.numpy())) for w in model.weights]\n",
    "yhat = model(x_tst)\n",
    "assert isinstance(yhat, tfd.Distribution)"
   ]
  },
  {
   "cell_type": "code",
   "execution_count": 31,
   "id": "ed57aed1-72e6-40a7-b39d-eb9caa379c00",
   "metadata": {},
   "outputs": [
    {
     "data": {
      "image/png": "[encoded data removed]",
      "text/plain": [
       "<Figure size 600x150 with 1 Axes>"
      ]
     },
     "metadata": {},
     "output_type": "display_data"
    }
   ],
   "source": [
    "w = np.squeeze(model.layers[-2].kernel.numpy())\n",
    "b = np.squeeze(model.layers[-2].bias.numpy())\n",
    "\n",
    "plt.figure(figsize=(6, 1.5))\n",
    "plt.plot(x, y, \"b.\", label=\"observed\")\n",
    "plt.plot(x_tst, yhat.mean(), \"r\", label=\"mean\", lw=4)\n",
    "plt.ylim(-0.0, 17.0)\n",
    "plt.yticks(np.linspace(0, 15, 4)[1:])\n",
    "plt.xticks(np.linspace(*x_range, num=9))\n",
    "\n",
    "ax = plt.gca()\n",
    "ax.xaxis.set_ticks_position(\"bottom\")\n",
    "ax.yaxis.set_ticks_position(\"left\")\n",
    "ax.spines[\"left\"].set_position((\"data\", 0))\n",
    "ax.spines[\"top\"].set_visible(False)\n",
    "ax.spines[\"right\"].set_visible(False)\n",
    "plt.legend(loc=\"center left\", fancybox=True, framealpha=0.0, bbox_to_anchor=(1.05, 0.5))\n",
    "\n",
    "plt.show()"
   ]
  },
  {
   "cell_type": "markdown",
   "id": "83785ba2-8dbb-4f5a-a8b3-047a9574087d",
   "metadata": {},
   "source": [
    "## Case 2. 線型結合レイヤー + 正規分布レイヤー\n",
    "\n",
    "<div align=\"center\"><img src=\"static/01_aleatoric_uncertainty.svg\" width=\"400\"/></div>"
   ]
  },
  {
   "cell_type": "code",
   "execution_count": 34,
   "id": "6d02b4ec-44ed-4b02-a380-1bc5f4d11792",
   "metadata": {},
   "outputs": [
    {
     "name": "stderr",
     "output_type": "stream",
     "text": [
      "2023-04-19 22:40:49.326177: I tensorflow/core/grappler/optimizers/custom_graph_optimizer_registry.cc:114] Plugin optimizer for device_type GPU is enabled.\n"
     ]
    },
    {
     "name": "stdout",
     "output_type": "stream",
     "text": [
      "[0.12056104 0.9782699 ]\n",
      "[5.196464 9.197994]\n"
     ]
    }
   ],
   "source": [
    "# Build model\n",
    "model = tf.keras.Sequential(\n",
    "    [\n",
    "        tf.keras.layers.Dense(2),\n",
    "        tfp.layers.DistributionLambda(\n",
    "            lambda t: tfd.Normal(\n",
    "                loc=t[..., 0],\n",
    "                scale=1e-3 + tf.math.softplus(0.05 * t[..., 1]),\n",
    "            ),\n",
    "        ),\n",
    "    ]\n",
    ")\n",
    "\n",
    "# Do inference\n",
    "model.compile(optimizer=tf.optimizers.Adam(learning_rate=0.01), loss=negloglik)\n",
    "model.fit(x, y, epochs=1000, verbose=False)\n",
    "\n",
    "# Profit\n",
    "[print(np.squeeze(w.numpy())) for w in model.weights]\n",
    "yhat = model(x_tst)\n",
    "assert isinstance(yhat, tfd.Distribution)"
   ]
  },
  {
   "cell_type": "code",
   "execution_count": 35,
   "id": "3d81e2e9-c381-474d-8aa4-4af123da13fb",
   "metadata": {},
   "outputs": [
    {
     "data": {
      "image/png": "[encoded data removed]",
      "text/plain": [
       "<Figure size 600x150 with 1 Axes>"
      ]
     },
     "metadata": {},
     "output_type": "display_data"
    }
   ],
   "source": [
    "plt.figure(figsize=[6, 1.5])\n",
    "plt.plot(x, y, \"b.\", label=\"observed\")\n",
    "\n",
    "m = yhat.mean()\n",
    "s = yhat.stddev()\n",
    "\n",
    "plt.plot(x_tst, m, \"r\", linewidth=4, label=\"mean\")\n",
    "plt.plot(x_tst, m + 2 * s, \"g\", linewidth=2, label=r\"mean + 2 stddev\")\n",
    "plt.plot(x_tst, m - 2 * s, \"g\", linewidth=2, label=r\"mean - 2 stddev\")\n",
    "\n",
    "plt.ylim(-0.0, 17)\n",
    "plt.yticks(np.linspace(0, 15, 4)[1:])\n",
    "plt.xticks(np.linspace(*x_range, num=9))\n",
    "\n",
    "ax = plt.gca()\n",
    "ax.xaxis.set_ticks_position(\"bottom\")\n",
    "ax.yaxis.set_ticks_position(\"left\")\n",
    "ax.spines[\"left\"].set_position((\"data\", 0))\n",
    "ax.spines[\"top\"].set_visible(False)\n",
    "ax.spines[\"right\"].set_visible(False)\n",
    "plt.legend(loc=\"center left\", fancybox=True, framealpha=0.0, bbox_to_anchor=(1.05, 0.5))\n",
    "\n",
    "plt.show()"
   ]
  },
  {
   "cell_type": "markdown",
   "id": "d8c6333d-6b89-424f-a743-66f5f39798d1",
   "metadata": {},
   "source": [
    "## Case 3. XXXX"
   ]
  },
  {
   "cell_type": "code",
   "execution_count": null,
   "id": "4ebece29-3438-435d-8a71-417bc5326928",
   "metadata": {},
   "outputs": [],
   "source": [
    "# Specify the surrogate posterior over `keras.layers.Dense`, `kernel` and `bias`.\n",
    "def posterior_mean_field(kernel_size, bias_size=0, dtype=None):\n",
    "    ...\n",
    "\n",
    "\n",
    "# Specify the prior over `keras.layers.Dense`, `kernel` and `bias`.\n",
    "def prior_trainable(kernel_size, bias_size=0, dtype=None):\n",
    "    ..."
   ]
  },
  {
   "cell_type": "markdown",
   "id": "13163bea-74eb-42f0-a33e-e8ab0c1b714b",
   "metadata": {},
   "source": [
    "## Case 4. YYYY"
   ]
  },
  {
   "cell_type": "code",
   "execution_count": null,
   "id": "2b22484e-53ef-48b9-86fa-6d5d96c47946",
   "metadata": {},
   "outputs": [],
   "source": []
  },
  {
   "cell_type": "markdown",
   "id": "2ea45007-f21e-4f30-9d9a-a8648bab202e",
   "metadata": {},
   "source": [
    "## Case 5. ZZZZ"
   ]
  },
  {
   "cell_type": "code",
   "execution_count": null,
   "id": "cd1c5765-59cd-4ed3-8b7a-14323ecf693c",
   "metadata": {},
   "outputs": [],
   "source": []
  }
 ],
 "metadata": {
  "kernelspec": {
   "display_name": "tensorflow",
   "language": "python",
   "name": "tensorflow"
  },
  "language_info": {
   "codemirror_mode": {
    "name": "ipython",
    "version": 3
   },
   "file_extension": ".py",
   "mimetype": "text/x-python",
   "name": "python",
   "nbconvert_exporter": "python",
   "pygments_lexer": "ipython3",
   "version": "3.10.10"
  }
 },
 "nbformat": 4,
 "nbformat_minor": 5
}
